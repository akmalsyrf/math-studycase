{
  "cells": [
    {
      "cell_type": "markdown",
      "metadata": {},
      "source": [
        "# 10 - Aplikasi Integral Lipat\n",
        "## Applications of Multiple Integrals\n",
        "\n",
        "### Deskripsi\n",
        "Notebook ini membahas aplikasi integral lipat dalam menghitung volume, massa, pusat massa, dan momen inersia.\n",
        "\n",
        "### Learning Objectives\n",
        "- Menghitung volume menggunakan integral lipat\n",
        "- Menghitung massa dan pusat massa\n",
        "- Menghitung momen inersia\n",
        "- Menerapkan dalam masalah fisika dan teknik\n",
        "- Visualisasi aplikasi geometris\n",
        "\n",
        "### Prerequisites\n",
        "- Integral lipat dua dan tiga\n",
        "- Koordinat polar, silinder, dan bola\n",
        "- Dasar-dasar fisika\n"
      ]
    }
  ],
  "metadata": {
    "language_info": {
      "name": "python"
    }
  },
  "nbformat": 4,
  "nbformat_minor": 2
}
