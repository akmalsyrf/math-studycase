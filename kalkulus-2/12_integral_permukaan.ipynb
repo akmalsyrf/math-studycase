{
  "cells": [
    {
      "cell_type": "markdown",
      "metadata": {},
      "source": [
        "# 12 - Integral Permukaan\n",
        "## Surface Integrals\n",
        "\n",
        "### Deskripsi\n",
        "Notebook ini membahas integral permukaan, parametrizasi permukaan, dan aplikasinya dalam menghitung fluks.\n",
        "\n",
        "### Learning Objectives\n",
        "- Memahami konsep integral permukaan\n",
        "- Parametrizasi permukaan 3D\n",
        "- Menghitung integral permukaan skalar dan vektor\n",
        "- Menerapkan dalam menghitung fluks\n",
        "- Visualisasi permukaan 3D\n",
        "\n",
        "### Prerequisites\n",
        "- Integral garis\n",
        "- Fungsi vektor\n",
        "- Dasar-dasar geometri 3D\n"
      ]
    }
  ],
  "metadata": {
    "language_info": {
      "name": "python"
    }
  },
  "nbformat": 4,
  "nbformat_minor": 2
}
