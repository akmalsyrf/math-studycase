{
  "cells": [
    {
      "cell_type": "markdown",
      "metadata": {},
      "source": [
        "# 08 - Koordinat Silinder dan Bola\n",
        "## Cylindrical and Spherical Coordinates\n",
        "\n",
        "### Deskripsi\n",
        "Notebook ini membahas sistem koordinat silinder dan bola, transformasi koordinat, dan aplikasinya dalam integral lipat tiga.\n",
        "\n",
        "### Learning Objectives\n",
        "- Memahami koordinat silinder dan bola\n",
        "- Transformasi antara sistem koordinat\n",
        "- Menghitung integral lipat tiga dalam koordinat silinder dan bola\n",
        "- Menerapkan dalam masalah geometri 3D\n",
        "- Visualisasi dalam berbagai sistem koordinat\n",
        "\n",
        "### Prerequisites\n",
        "- Koordinat polar\n",
        "- Integral lipat tiga\n",
        "- Trigonometri 3D\n"
      ]
    }
  ],
  "metadata": {
    "language_info": {
      "name": "python"
    }
  },
  "nbformat": 4,
  "nbformat_minor": 2
}
