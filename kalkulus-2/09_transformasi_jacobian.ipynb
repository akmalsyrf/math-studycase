{
  "cells": [
    {
      "cell_type": "markdown",
      "metadata": {},
      "source": [
        "# 09 - Transformasi Koordinat dan Jacobian\n",
        "## Coordinate Transformations and Jacobian\n",
        "\n",
        "### Deskripsi\n",
        "Notebook ini membahas transformasi koordinat, matriks Jacobian, dan aplikasinya dalam integral lipat.\n",
        "\n",
        "### Learning Objectives\n",
        "- Memahami transformasi koordinat\n",
        "- Menghitung matriks Jacobian\n",
        "- Menerapkan Jacobian dalam integral lipat\n",
        "- Transformasi variabel dalam integral\n",
        "- Visualisasi transformasi\n",
        "\n",
        "### Prerequisites\n",
        "- Koordinat silinder dan bola\n",
        "- Dasar-dasar matriks\n",
        "- Integral lipat\n"
      ]
    }
  ],
  "metadata": {
    "language_info": {
      "name": "python"
    }
  },
  "nbformat": 4,
  "nbformat_minor": 2
}
