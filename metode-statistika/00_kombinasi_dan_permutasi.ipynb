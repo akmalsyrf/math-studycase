{
  "cells": [
    {
      "cell_type": "markdown",
      "metadata": {},
      "source": [
        "# Kombinasi dan Permutasi (Combinations and Permutations)\n",
        "\n",
        "## Deskripsi\n",
        "Notebook ini membahas konsep dasar **kombinasi** dan **permutasi** dalam matematika dan statistika. Kedua konsep ini sangat penting dalam menghitung probabilitas dan analisis kombinatorial.\n",
        "\n",
        "## Learning Objectives\n",
        "- Memahami perbedaan antara kombinasi dan permutasi\n",
        "- Menghitung kombinasi dan permutasi secara manual\n",
        "- Mengimplementasikan perhitungan menggunakan Python\n",
        "- Menerapkan konsep dalam masalah probabilitas\n",
        "\n",
        "## Prerequisites\n",
        "- Pemahaman dasar matematika\n",
        "- Konsep faktorial\n",
        "- Dasar-dasar Python\n"
      ]
    },
    {
      "cell_type": "markdown",
      "metadata": {},
      "source": [
        "## 1. Import Libraries\n"
      ]
    },
    {
      "cell_type": "code",
      "execution_count": null,
      "metadata": {},
      "outputs": [],
      "source": [
        "import numpy as np\n",
        "import pandas as pd\n",
        "import matplotlib.pyplot as plt\n",
        "import seaborn as sns\n",
        "from scipy.special import comb, perm\n",
        "from itertools import combinations, permutations\n",
        "import warnings\n",
        "warnings.filterwarnings('ignore')\n",
        "\n",
        "# Set style\n",
        "plt.style.use('seaborn-v0_8')\n",
        "sns.set_palette(\"husl\")\n",
        "\n",
        "print(\"Libraries imported successfully!\")\n"
      ]
    }
  ],
  "metadata": {
    "language_info": {
      "name": "python"
    }
  },
  "nbformat": 4,
  "nbformat_minor": 2
}
