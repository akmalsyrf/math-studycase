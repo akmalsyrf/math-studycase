{
  "cells": [
    {
      "cell_type": "markdown",
      "metadata": {},
      "source": [
        "# Distribusi Probabilitas (Probability Distributions)\n",
        "\n",
        "## Deskripsi\n",
        "Notebook ini membahas berbagai **distribusi probabilitas** yang penting dalam statistika, termasuk distribusi Bernoulli, Binomial, dan Poisson. Setiap distribusi memiliki karakteristik dan aplikasi yang spesifik.\n",
        "\n",
        "## Learning Objectives\n",
        "- Memahami distribusi Bernoulli, Binomial, dan Poisson\n",
        "- Menghitung probabilitas menggunakan distribusi\n",
        "- Menganalisis expected value dan variance\n",
        "- Menerapkan distribusi dalam masalah praktis\n",
        "\n",
        "## Prerequisites\n",
        "- Konsep random variable\n",
        "- Expected value dan variance\n",
        "- Dasar-dasar Python\n"
      ]
    },
    {
      "cell_type": "code",
      "execution_count": null,
      "metadata": {},
      "outputs": [],
      "source": [
        "import numpy as np\n",
        "import pandas as pd\n",
        "import matplotlib.pyplot as plt\n",
        "import seaborn as sns\n",
        "from scipy import stats\n",
        "from scipy.special import comb\n",
        "import warnings\n",
        "warnings.filterwarnings('ignore')\n",
        "\n",
        "# Set style\n",
        "plt.style.use('seaborn-v0_8')\n",
        "sns.set_palette(\"husl\")\n",
        "\n",
        "print(\"Libraries imported successfully!\")\n"
      ]
    }
  ],
  "metadata": {
    "language_info": {
      "name": "python"
    }
  },
  "nbformat": 4,
  "nbformat_minor": 2
}
