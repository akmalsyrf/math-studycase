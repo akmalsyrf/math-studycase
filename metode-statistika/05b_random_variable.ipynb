{
  "cells": [
    {
      "cell_type": "markdown",
      "metadata": {},
      "source": [
        "# Random Variable (Variabel Acak)\n",
        "\n",
        "## Deskripsi\n",
        "Notebook ini membahas konsep **random variable** (variabel acak) yang merupakan fondasi penting dalam teori probabilitas dan statistika. Random variable menghubungkan hasil eksperimen dengan nilai numerik.\n",
        "\n",
        "## Learning Objectives\n",
        "- Memahami konsep random variable diskrit dan kontinu\n",
        "- Menghitung expected value dan variance\n",
        "- Menganalisis sifat-sifat random variable\n",
        "- Menerapkan konsep dalam masalah praktis\n",
        "\n",
        "## Prerequisites\n",
        "- Konsep dasar probabilitas\n",
        "- Pemahaman tentang sample space dan events\n",
        "- Dasar-dasar Python\n"
      ]
    },
    {
      "cell_type": "code",
      "execution_count": null,
      "metadata": {},
      "outputs": [],
      "source": [
        "import numpy as np\n",
        "import pandas as pd\n",
        "import matplotlib.pyplot as plt\n",
        "import seaborn as sns\n",
        "from scipy import stats\n",
        "import warnings\n",
        "warnings.filterwarnings('ignore')\n",
        "\n",
        "# Set style\n",
        "plt.style.use('seaborn-v0_8')\n",
        "sns.set_palette(\"husl\")\n",
        "\n",
        "print(\"Libraries imported successfully!\")\n"
      ]
    }
  ],
  "metadata": {
    "language_info": {
      "name": "python"
    }
  },
  "nbformat": 4,
  "nbformat_minor": 2
}
